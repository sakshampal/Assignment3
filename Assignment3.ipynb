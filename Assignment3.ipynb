{
 "cells": [
  {
   "cell_type": "code",
   "execution_count": null,
   "id": "f09b1911-bfa6-443f-899f-b607d75d3fcd",
   "metadata": {},
   "outputs": [],
   "source": [
    "Q1. Which keyword is used to create a function? Create a function to return a list of odd numbers in the\n",
    "range of 1 to 25.\n",
    "\n",
    "Ans: def keyword is used to create a function "
   ]
  },
  {
   "cell_type": "code",
   "execution_count": 8,
   "id": "a08c0ba9-f94b-4b84-bf61-39c976604dd4",
   "metadata": {},
   "outputs": [
    {
     "name": "stdout",
     "output_type": "stream",
     "text": [
      "[1, 3, 5, 7, 9, 11, 13, 15, 17, 19, 21, 23, 25]\n"
     ]
    }
   ],
   "source": [
    "def get_odd_number():\n",
    "    odd_numbers=[]\n",
    "    for i in  range (1,26):\n",
    "        if i%2!=0:\n",
    "            odd_numbers.append(i)\n",
    "    return odd_numbers\n",
    "        \n",
    "result = get_odd_number()\n",
    "\n",
    "print(result)\n",
    "    "
   ]
  },
  {
   "cell_type": "code",
   "execution_count": null,
   "id": "6b826285-c604-4073-ab00-ea8c734fe2c4",
   "metadata": {},
   "outputs": [],
   "source": [
    "Q2. Why *args and **kwargs is used in some functions? Create a function each for *args and **kwargs\n",
    "to demonstrate their use.\n",
    "\n",
    "Ans: The *args parameter allows a function to accept any number of positional arguments.\n",
    "It collects all the positional arguments passed to the function into a tuple, \n",
    "which can then be iterated over or accessed using indexing.\n",
    "\n"
   ]
  },
  {
   "cell_type": "code",
   "execution_count": 1,
   "id": "2ad1749a-4451-4946-9a00-7a9e4e880474",
   "metadata": {},
   "outputs": [],
   "source": [
    "#Ex:\n",
    "def test1(*args):\n",
    "    return args\n",
    "    "
   ]
  },
  {
   "cell_type": "code",
   "execution_count": 2,
   "id": "7577e56a-bc5f-440c-805b-1113526ddf65",
   "metadata": {},
   "outputs": [
    {
     "data": {
      "text/plain": [
       "(1, 2, 3, 4, 5, 6)"
      ]
     },
     "execution_count": 2,
     "metadata": {},
     "output_type": "execute_result"
    }
   ],
   "source": [
    "test1(1,2,3,4,5,6)\n",
    "    "
   ]
  },
  {
   "cell_type": "code",
   "execution_count": 3,
   "id": "af2320f8-4691-47de-a027-1331a361bd57",
   "metadata": {},
   "outputs": [
    {
     "data": {
      "text/plain": [
       "('saksham', 12.54, 'pwskills')"
      ]
     },
     "execution_count": 3,
     "metadata": {},
     "output_type": "execute_result"
    }
   ],
   "source": [
    "test1(\"saksham\",12.54,\"pwskills\")"
   ]
  },
  {
   "cell_type": "code",
   "execution_count": null,
   "id": "83316a32-c901-48a0-bd1d-66aa96776950",
   "metadata": {},
   "outputs": [],
   "source": [
    "# the above example is for *args"
   ]
  },
  {
   "cell_type": "code",
   "execution_count": null,
   "id": "e72a165e-1382-45b3-86c3-1d56e0ccc06d",
   "metadata": {},
   "outputs": [],
   "source": [
    "The **kwargs parameter allows a function to accept any number of keyword arguments (i.e., arguments passed with a specific keyword). \n",
    "It collects all the keyword arguments into a dictionary, where the keys are the argument names and the values are the argument values.\n",
    "\n"
   ]
  },
  {
   "cell_type": "code",
   "execution_count": 6,
   "id": "2180b9df-382c-4784-9ea3-259fe5bd89ee",
   "metadata": {},
   "outputs": [],
   "source": [
    "def test2(**kwargs):\n",
    "    return kwargs"
   ]
  },
  {
   "cell_type": "code",
   "execution_count": 7,
   "id": "368ed648-e36d-46c3-95bc-df359e33b9e4",
   "metadata": {},
   "outputs": [
    {
     "data": {
      "text/plain": [
       "{'a': 'saksham', 'b': [1, 2, 3, 4, 5], 'c': 'pal', 'd': 23.45}"
      ]
     },
     "execution_count": 7,
     "metadata": {},
     "output_type": "execute_result"
    }
   ],
   "source": [
    "test2(a = \"saksham\",b=[1,2,3,4,5],c=\"pal\",d=23.45)"
   ]
  },
  {
   "cell_type": "code",
   "execution_count": null,
   "id": "d943ddf7-259c-421f-a57f-a75c3ff7bb39",
   "metadata": {},
   "outputs": [],
   "source": [
    "Q3. What is an iterator in python? Name the method used to initialise the iterator object and the method\n",
    "used for iteration. Use these methods to print the first five elements of the given list [2, 4, 6, 8, 10, 12, 14,\n",
    "16, 18, 20].\n",
    "\n",
    "Ans: In Python, an iterator is an object that implements the iterator protocol, which consists of the __iter__() and __next__() methods.\n",
    "Iterators are used to represent a stream of data and provide a way to iterate over elements sequentially.\n",
    "\n",
    "To create an iterator, you need to define a class that implements the iterator protocol. \n",
    "The __iter__() method returns the iterator object itself and is responsible for initializing or resetting the iterator state. \n",
    "The __next__() method returns the next item from the iterator. If there are no more items to return, it raises the StopIteration exception."
   ]
  },
  {
   "cell_type": "code",
   "execution_count": 8,
   "id": "a6a0d6ab-4a14-4549-83c6-cdbc25ecd0b7",
   "metadata": {},
   "outputs": [],
   "source": [
    "list = [2,4,6,8,10,12,14,16,18,20]"
   ]
  },
  {
   "cell_type": "code",
   "execution_count": 28,
   "id": "be4180fc-2db2-4a27-8637-f630626e001a",
   "metadata": {},
   "outputs": [
    {
     "name": "stdout",
     "output_type": "stream",
     "text": [
      "2\n",
      "4\n",
      "6\n",
      "8\n",
      "10\n"
     ]
    }
   ],
   "source": [
    "l1 = iter(list)\n",
    "for _ in range(5):\n",
    "    element = next(l1)\n",
    "    print(element)"
   ]
  },
  {
   "cell_type": "code",
   "execution_count": null,
   "id": "2cb452e3-2326-4c1d-90b2-0ba00c73e704",
   "metadata": {},
   "outputs": [],
   "source": [
    "Q4. What is a generator function in python? Why yield keyword is used? Give an example of a generator\n",
    "function.\n",
    "Ans: In Python, a generator function is a special type of function that returns an iterator, \n",
    "which can be used to iterate over a sequence of values. It is defined using the def keyword \n",
    "like a regular function, but instead of using the return statement, it uses the yield keyword\n",
    "to produce a series of values one at a time.\n",
    "\n",
    "The yield keyword is used in a generator function to specify the values that should be generated.\n",
    "When a generator function is called, it returns a generator object, which can be iterated over using\n",
    "a loop or by using the next() function. Each time the yield keyword is encountered in the generator \n",
    "function, it pauses the function's execution and returns the yielded value. The state of the function\n",
    "is saved, allowing it to resume from where it left off when the next value is requested. \n",
    "    "
   ]
  },
  {
   "cell_type": "code",
   "execution_count": 1,
   "id": "c42c2427-93a6-48aa-b782-4033e64bd44c",
   "metadata": {},
   "outputs": [
    {
     "name": "stdout",
     "output_type": "stream",
     "text": [
      "0\n",
      "1\n",
      "4\n",
      "9\n",
      "16\n"
     ]
    }
   ],
   "source": [
    "def square_generator(n):\n",
    "    for i in range(n):\n",
    "        yield i**2\n",
    "        \n",
    "my_generator = square_generator(5)\n",
    "\n",
    "for num in my_generator:\n",
    "    print(num)\n",
    "    \n",
    "    \n",
    "    "
   ]
  },
  {
   "cell_type": "code",
   "execution_count": null,
   "id": "e3cab3e9-08db-42b5-8d27-ad57382b1231",
   "metadata": {},
   "outputs": [],
   "source": [
    "Q5. Create a generator function for prime numbers less than 1000. Use the next() method to print the\n",
    "first 20 prime numbers.\n",
    "\n",
    "Ans: def prime_generator():\n",
    "    primes = []\n",
    "    num = 2\n",
    "    while True:\n",
    "        if all(num % prime != 0 for prime in primes):\n",
    "            primes.append(num)\n",
    "            yield num\n",
    "        num += 1\n",
    "\n",
    "# Creating the generator object\n",
    "prime_gen = prime_generator()\n",
    "\n",
    "# Printing the first 20 prime numbers\n",
    "for _ in range(20):\n",
    "    prime = next(prime_gen)\n",
    "    print(prime)\n",
    "    \n",
    "    O/P: 2,3,5,7,11,13,15,17,19,23,29,31,37,41,43,47,53,59,61,67,\n",
    "\n",
    "\n"
   ]
  },
  {
   "cell_type": "code",
   "execution_count": null,
   "id": "127d03ee-bf8f-4967-a872-90117efcbf09",
   "metadata": {},
   "outputs": [],
   "source": [
    "Q6. Write a python program to print the first 10 Fibonacci numbers using a while loop.\n",
    "\n",
    "Ans: def fibonacci_series():\n",
    "    a,b=0,1\n",
    "    \n",
    "    print(a)\n",
    "    \n",
    "    count = 1\n",
    "    \n",
    "    while count < 10:\n",
    "        print(b)\n",
    "        a,b = b , a+b\n",
    "        count += 1\n",
    "        \n",
    "fibonacci_series()\n",
    "    \n",
    "    o/p:0,1,1,2,3,5,8,13,21,34\n",
    "\n",
    "\n"
   ]
  },
  {
   "cell_type": "code",
   "execution_count": null,
   "id": "0d7f3104-07a8-48bd-bb84-a39e79168611",
   "metadata": {},
   "outputs": [],
   "source": [
    "Q7. Write a List Comprehension to iterate through the given string: ‘pwskills’.\n",
    "Expected output: ['p', 'w', 's', 'k', 'i', 'l', 'l', 's']\n",
    "\n",
    "Ans: string = 'pwskills'\n",
    "output = [char for char in string if char in 'pwskills']\n",
    "print(output)\n",
    "\n",
    "o/p:['p', 'w', 's', 'k', 'i', 'l', 'l', 's']"
   ]
  },
  {
   "cell_type": "code",
   "execution_count": null,
   "id": "8d8e9eca-7c2d-4d29-9859-aacee54d6c2f",
   "metadata": {},
   "outputs": [],
   "source": [
    "Q8. Write a python program to check whether a given number is Palindrome or not using a while loop.\n",
    "\n",
    "Ans: def is_palindrome(number):\n",
    "         original_number = number\n",
    "         reverse_number = 0\n",
    "            \n",
    "            while number > 0:\n",
    "                digit = number % 10 \n",
    "                reverse_number = reverse_number* 10 + digit\n",
    "                number = number // 10\n",
    "                \n",
    "            if original_number == reverse_number :\n",
    "                return True\n",
    "            else:\n",
    "                return False\n",
    "            \n",
    "        number = 12321\n",
    "        if is_palindrome(number):\n",
    "            print(number,\"is a palindrome\")\n",
    "        else :\n",
    "            print(number,\"is not a palindrome\")\n",
    "    "
   ]
  },
  {
   "cell_type": "code",
   "execution_count": null,
   "id": "2d41d0d1-e6b0-44de-bdf6-7d8ba39cf08d",
   "metadata": {},
   "outputs": [],
   "source": [
    "Q9. Write a code to print odd numbers from 1 to 100 using list comprehension.\n",
    "\n",
    "Ans: \n",
    "odd_numbers = [num for num in range(1, 101) if num % 2 != 0]\n",
    "\n",
    "\n",
    "for number in odd_numbers:\n",
    "    print(number)\n"
   ]
  }
 ],
 "metadata": {
  "kernelspec": {
   "display_name": "Python 3 (ipykernel)",
   "language": "python",
   "name": "python3"
  },
  "language_info": {
   "codemirror_mode": {
    "name": "ipython",
    "version": 3
   },
   "file_extension": ".py",
   "mimetype": "text/x-python",
   "name": "python",
   "nbconvert_exporter": "python",
   "pygments_lexer": "ipython3",
   "version": "3.10.8"
  }
 },
 "nbformat": 4,
 "nbformat_minor": 5
}
